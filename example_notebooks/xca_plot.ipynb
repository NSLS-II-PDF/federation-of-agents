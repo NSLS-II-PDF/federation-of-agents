{
 "cells": [
  {
   "cell_type": "markdown",
   "metadata": {
    "pycharm": {
     "name": "#%% md\n"
    }
   },
   "source": [
    "# Initial example of the XCA plotting for a classifier.\n",
    "\n",
    "Using everyone's favorite prototype, BaTiO$_3$."
   ]
  },
  {
   "cell_type": "code",
   "execution_count": null,
   "metadata": {},
   "outputs": [],
   "source": [
    "from federation.plumbing.filesystem import ObservationalDirectoryAgent\n",
    "from federation.xca.cnn import PlotCompanion\n",
    "import xarray as xr\n",
    "import numpy as np\n",
    "import matplotlib.pyplot as plt"
   ]
  },
  {
   "cell_type": "code",
   "execution_count": null,
   "metadata": {
    "pycharm": {
     "name": "#%%\n"
    }
   },
   "outputs": [],
   "source": [
    "model_path = \"../saved_models/BTO/\"\n",
    "data_path = \"../example_data/BTO/\"\n",
    "eg_model_data = xr.open_dataset(\"../saved_models/BTO/eg_training_data.nc\")\n",
    "eg_exp_data = np.loadtxt(\"../example_data/BTO/BTO_150K.IoQ\")\n",
    "\n",
    "# Extract linspace from examples\n",
    "model_tth = eg_model_data.coords[\"2theta\"].values\n",
    "exp_tth = eg_exp_data[:,0]"
   ]
  },
  {
   "cell_type": "code",
   "execution_count": null,
   "metadata": {
    "pycharm": {
     "name": "#%%\n"
    }
   },
   "outputs": [],
   "source": [
    "# This could also trim the data to the ROI\n",
    "# Data is automatically normalized onto (-1, 1) within the companion\n",
    "def data_transform(data):\n",
    "    return data\n",
    "\n",
    "def independent_from_path(path):\n",
    "    return float(path.stem.split(\"_\")[-1][:-1])"
   ]
  },
  {
   "cell_type": "code",
   "execution_count": null,
   "metadata": {
    "pycharm": {
     "name": "#%%\n"
    }
   },
   "outputs": [],
   "source": [
    "companion = PlotCompanion(model_path=model_path,\n",
    "                          model_tth=model_tth, # Model linspace\n",
    "                          exp_tth=exp_tth, # Experiment linspace\n",
    "                          coordinate_transform=None, # Converting between science space coordinates and beamline space,\n",
    "                          categorical=True # Classification (True) or Regression (False)\n",
    "                          )\n",
    "\n",
    "\n",
    "agent = ObservationalDirectoryAgent(companion,\n",
    "                                    data_path,\n",
    "                                    path_spec=\"*.IoQ\",\n",
    "                                    data_transform=data_transform,\n",
    "                                    independent_from_path=independent_from_path)"
   ]
  },
  {
   "cell_type": "code",
   "execution_count": null,
   "metadata": {
    "pycharm": {
     "name": "#%%\n"
    }
   },
   "outputs": [],
   "source": [
    "agent.load_dir()\n"
   ]
  },
  {
   "cell_type": "markdown",
   "metadata": {
    "pycharm": {
     "name": "#%% md\n"
    }
   },
   "source": [
    "### A standard observation is just the bar graph of most recent probabilities"
   ]
  },
  {
   "cell_type": "code",
   "execution_count": null,
   "metadata": {
    "pycharm": {
     "name": "#%%\n"
    }
   },
   "outputs": [],
   "source": [
    "agent.companion.observe()\n"
   ]
  },
  {
   "cell_type": "markdown",
   "metadata": {},
   "source": [
    "### But the nothing is stopping the user from creatively exploring their independent vs dependent variable space.\n"
   ]
  },
  {
   "cell_type": "code",
   "execution_count": null,
   "metadata": {
    "pycharm": {
     "name": "#%%\n"
    }
   },
   "outputs": [],
   "source": [
    "mapping = {0:'cubic',\n",
    "           1:'rhomb',\n",
    "           2:'ortho',\n",
    "           3:'tetra'}\n",
    "with plt.style.context('bmh'):\n",
    "    for i in range(4):\n",
    "        plt.plot(companion.independent, companion.dependent[:,i], label=f\"Proby {mapping[i]}\")\n",
    "    plt.legend()"
   ]
  }
 ],
 "metadata": {
  "kernelspec": {
   "display_name": "Python 3",
   "language": "python",
   "name": "python3"
  },
  "language_info": {
   "codemirror_mode": {
    "name": "ipython",
    "version": 2
   },
   "file_extension": ".py",
   "mimetype": "text/x-python",
   "name": "python",
   "nbconvert_exporter": "python",
   "pygments_lexer": "ipython2",
   "version": "2.7.6"
  }
 },
 "nbformat": 4,
 "nbformat_minor": 0
}
