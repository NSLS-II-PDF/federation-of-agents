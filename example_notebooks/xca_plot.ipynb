{
 "cells": [
  {
   "cell_type": "markdown",
   "metadata": {
    "pycharm": {
     "name": "#%% md\n"
    }
   },
   "source": [
    "# Initial example of the XCA plotting for a classifier.\n",
    "\n",
    "Unfortunately, this loads an old model so will issue some warnings until it is updated.\n"
   ]
  },
  {
   "cell_type": "code",
   "execution_count": null,
   "metadata": {},
   "outputs": [],
   "source": [
    "from federation.plumbing.filesystem import ObservationalDirectoryAgent\n",
    "from federation.xca.cnn import PlotCompanion\n",
    "import xarray as xr\n",
    "import numpy as np"
   ]
  },
  {
   "cell_type": "code",
   "execution_count": null,
   "metadata": {
    "pycharm": {
     "name": "#%%\n"
    }
   },
   "outputs": [],
   "source": [
    "model_path = \"../saved_models/TiMgCu/\"\n",
    "data_path = \"../saved_models/TiMgCu/exp_data\"\n",
    "eg_model_data = xr.open_dataset(\"../saved_models/TiMgCu/example_training.nc\")\n",
    "eg_exp_data = np.loadtxt(\"../saved_models/TiMgCu/exp_data/0.ioq\")\n",
    "\n",
    "# Extract linspace from examples\n",
    "model_tth = eg_model_data.coords[\"2theta\"].values\n",
    "exp_tth = eg_exp_data[:,0]"
   ]
  },
  {
   "cell_type": "code",
   "execution_count": null,
   "metadata": {
    "pycharm": {
     "name": "#%%\n"
    }
   },
   "outputs": [],
   "source": [
    "# This could also trim the data to the ROI\n",
    "# Data is automatically normalized onto (-1, 1) within the companion\n",
    "def data_transform(data):\n",
    "    return data"
   ]
  },
  {
   "cell_type": "code",
   "execution_count": null,
   "metadata": {
    "pycharm": {
     "name": "#%%\n"
    }
   },
   "outputs": [],
   "source": [
    "companion = PlotCompanion(model_path=model_path,\n",
    "                          model_tth=model_tth, # Model linspace\n",
    "                          exp_tth=exp_tth, # Experiment linspace\n",
    "                          coordinate_transform=None, # Converting between science space coordinates and beamline space,\n",
    "                          categorical=True # Classification (True) or Regression (False)\n",
    "                          )\n",
    "\n",
    "\n",
    "agent = ObservationalDirectoryAgent(companion,\n",
    "                                    data_path,\n",
    "                                    path_spec=\"*.ioq\",\n",
    "                                    data_transform=data_transform)"
   ]
  },
  {
   "cell_type": "code",
   "execution_count": null,
   "metadata": {
    "pycharm": {
     "name": "#%%\n"
    }
   },
   "outputs": [],
   "source": [
    "agent.load_dir()"
   ]
  },
  {
   "cell_type": "code",
   "execution_count": null,
   "metadata": {
    "pycharm": {
     "name": "#%%\n"
    }
   },
   "outputs": [],
   "source": [
    "agent.companion.observe()"
   ]
  },
  {
   "cell_type": "code",
   "execution_count": null,
   "metadata": {
    "pycharm": {
     "name": "#%%\n"
    }
   },
   "outputs": [],
   "source": []
  }
 ],
 "metadata": {
  "kernelspec": {
   "display_name": "Python 3",
   "language": "python",
   "name": "python3"
  },
  "language_info": {
   "codemirror_mode": {
    "name": "ipython",
    "version": 2
   },
   "file_extension": ".py",
   "mimetype": "text/x-python",
   "name": "python",
   "nbconvert_exporter": "python",
   "pygments_lexer": "ipython2",
   "version": "2.7.6"
  }
 },
 "nbformat": 4,
 "nbformat_minor": 0
}
