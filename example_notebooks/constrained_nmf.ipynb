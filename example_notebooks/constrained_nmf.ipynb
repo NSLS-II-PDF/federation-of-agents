{
 "cells": [
  {
   "cell_type": "markdown",
   "metadata": {
    "pycharm": {
     "name": "#%% md\n"
    }
   },
   "source": [
    "# Manual constrained NMF using BaTiO$_3$ temperature series"
   ]
  },
  {
   "cell_type": "code",
   "execution_count": null,
   "metadata": {
    "pycharm": {
     "name": "#%%\n"
    }
   },
   "outputs": [],
   "source": [
    "from federation.plumbing.filesystem import ObservationalDirectoryAgent\n",
    "from federation.nmf.base import NMFCompanion\n",
    "import xarray as xr\n",
    "import numpy as np"
   ]
  },
  {
   "cell_type": "code",
   "execution_count": null,
   "metadata": {
    "pycharm": {
     "name": "#%%\n"
    }
   },
   "outputs": [],
   "source": [
    "data_path = \"../example_data/BTO\"\n",
    "eg_data = np.loadtxt(\"../example_data/BTO/BTO_150.xy\")\n",
    "q_space = eg_data[:, 0]"
   ]
  },
  {
   "cell_type": "code",
   "execution_count": null,
   "metadata": {
    "pycharm": {
     "name": "#%%\n"
    }
   },
   "outputs": [],
   "source": [
    "# This could also trim the data to the ROI\n",
    "# Data is automatically normalized onto (-1, 1) within the companion\n",
    "def data_transform(data):\n",
    "    return data\n"
   ]
  },
  {
   "cell_type": "markdown",
   "metadata": {
    "pycharm": {
     "name": "#%% md\n"
    }
   },
   "source": [
    "### Initializing the DirectoryAgent with unconstrained model\n",
    "This allows up to use it to load data, and later give it some constraints."
   ]
  },
  {
   "cell_type": "code",
   "execution_count": null,
   "metadata": {
    "pycharm": {
     "name": "#%%\n"
    }
   },
   "outputs": [],
   "source": [
    "companion = NMFCompanion(4,\n",
    "                         q=q_space,\n",
    "                         normalize=True)"
   ]
  },
  {
   "cell_type": "code",
   "execution_count": null,
   "metadata": {
    "pycharm": {
     "name": "#%%\n"
    }
   },
   "outputs": [],
   "source": [
    "# Extract an order and an \"independent variable\" from the path object.\n",
    "def temperature_from_path(path):\n",
    "    return float(path.stem.split(\"_\")[-1])\n",
    "\n",
    "\n",
    "agent = ObservationalDirectoryAgent(companion,\n",
    "                                    data_path,\n",
    "                                    path_spec=\"*.xy\",\n",
    "                                    data_transform=data_transform,\n",
    "                                    independent_from_path=temperature_from_path,\n",
    "                                    file_ordering=temperature_from_path\n",
    "                                    )"
   ]
  },
  {
   "cell_type": "code",
   "execution_count": null,
   "metadata": {
    "pycharm": {
     "name": "#%%\n"
    }
   },
   "outputs": [],
   "source": [
    "agent.load_dir()"
   ]
  },
  {
   "cell_type": "markdown",
   "metadata": {
    "pycharm": {
     "name": "#%% md\n"
    }
   },
   "source": [
    "Choosing constraints from the end members. *a la* CATS."
   ]
  },
  {
   "cell_type": "code",
   "execution_count": null,
   "metadata": {
    "pycharm": {
     "name": "#%%\n"
    }
   },
   "outputs": [],
   "source": [
    "constraints = companion.dependent[[0, -1], :]"
   ]
  },
  {
   "cell_type": "code",
   "execution_count": null,
   "metadata": {
    "pycharm": {
     "name": "#%%\n"
    }
   },
   "outputs": [],
   "source": [
    "companion.fixed_components = constraints\n",
    "companion.report()\n",
    "\n"
   ]
  }
 ],
 "metadata": {
  "kernelspec": {
   "display_name": "Python 3",
   "language": "python",
   "name": "python3"
  },
  "language_info": {
   "codemirror_mode": {
    "name": "ipython",
    "version": 2
   },
   "file_extension": ".py",
   "mimetype": "text/x-python",
   "name": "python",
   "nbconvert_exporter": "python",
   "pygments_lexer": "ipython2",
   "version": "2.7.6"
  }
 },
 "nbformat": 4,
 "nbformat_minor": 0
}
