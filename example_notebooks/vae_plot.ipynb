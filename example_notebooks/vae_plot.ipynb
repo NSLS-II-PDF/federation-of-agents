{
 "cells": [
  {
   "cell_type": "markdown",
   "metadata": {
    "pycharm": {
     "name": "#%% md\n"
    }
   },
   "source": [
    "# Initial example of the XCA plotting for a classifier.\n",
    "\n",
    "Using everyone's favorite prototype, BaTiO$_3$.\n",
    "Unfortunately, even a convolutional VAE struggles to separate the phases of BaTiO$_3$.\n",
    "So we use something a little more complex that includes predictive capacity,\n",
    "but just pull out the encoder and decoder parts.\n",
    "\n",
    "This leaves some opening for a predictive VAE agent that observes, makes predictions,\n",
    "and compares against the XCA feed forward predictions. The federation grows...\n",
    "\n"
   ]
  },
  {
   "cell_type": "code",
   "execution_count": null,
   "metadata": {
    "pycharm": {
     "name": "#%%\n"
    }
   },
   "outputs": [],
   "source": [
    "from federation.plumbing.filesystem import ObservationalDirectoryAgent\n",
    "from federation.xca.vae import VAECompanion\n",
    "import xarray as xr\n",
    "import numpy as np\n",
    "import matplotlib.pyplot as plt\n",
    "from pathlib import Path"
   ]
  },
  {
   "cell_type": "code",
   "execution_count": null,
   "metadata": {
    "pycharm": {
     "name": "#%%\n"
    }
   },
   "outputs": [],
   "source": [
    "encoder_path = \"../saved_models/BTO_VAE/encoder\"\n",
    "decoder_path = \"../saved_models/BTO_VAE/decoder\"\n",
    "data_path = \"../example_data/BTO/\"\n",
    "training_data_paths = list(Path(\"../saved_models/BTO_VAE/eg_training_data\").glob(\"*.nc\"))\n",
    "eg_model_data = xr.open_dataset(training_data_paths[0])\n",
    "eg_exp_data = np.loadtxt(\"../example_data/BTO/BTO_150K.IoQ\")\n",
    "\n",
    "# Extract linspace from examples\n",
    "model_tth = eg_model_data.coords[\"2theta\"].values\n",
    "exp_tth = eg_exp_data[:,0]"
   ]
  },
  {
   "cell_type": "code",
   "execution_count": null,
   "metadata": {
    "pycharm": {
     "name": "#%%\n"
    }
   },
   "outputs": [],
   "source": [
    "# This could also trim the data to the ROI\n",
    "# Data is automatically normalized onto (-1, 1) within the XCA companion\n",
    "def data_transform(data):\n",
    "    return data\n",
    "\n",
    "def independent_from_path(path):\n",
    "    return float(path.stem.split(\"_\")[-1][:-1])"
   ]
  },
  {
   "cell_type": "code",
   "execution_count": null,
   "metadata": {
    "pycharm": {
     "name": "#%%\n"
    }
   },
   "outputs": [],
   "source": [
    "companion = VAECompanion(encoder_path=encoder_path,\n",
    "                         decoder_path=decoder_path,\n",
    "                         model_tth=model_tth,\n",
    "                         exp_tth=exp_tth,\n",
    "                         coordinate_transform=None,\n",
    "                         latent_dims=(0, 1))\n",
    "\n",
    "agent = ObservationalDirectoryAgent(companion,\n",
    "                                    data_path,\n",
    "                                    path_spec=\"*.IoQ\",\n",
    "                                    data_transform=data_transform,\n",
    "                                    independent_from_path=independent_from_path)"
   ]
  },
  {
   "cell_type": "code",
   "execution_count": null,
   "metadata": {
    "pycharm": {
     "name": "#%%\n"
    }
   },
   "outputs": [],
   "source": [
    "agent.load_dir()"
   ]
  },
  {
   "cell_type": "markdown",
   "metadata": {
    "pycharm": {
     "name": "#%% md\n"
    }
   },
   "source": [
    "### We take a subset of training data and \"prime\" the plot.\n",
    "This shows how the training classes were distributed in latent space.\n",
    "It also casts a normalization factor for the size of the points produced by `observe()`."
   ]
  },
  {
   "cell_type": "code",
   "execution_count": null,
   "metadata": {
    "pycharm": {
     "name": "#%%\n"
    }
   },
   "outputs": [],
   "source": [
    "arrays = list()\n",
    "for path in training_data_paths:\n",
    "    arrays.append(xr.load_dataarray(path))\n",
    "X = xr.concat(arrays, dim=\"idx\", combine_attrs=\"drop_conflicts\").data\n",
    "labels = [da.attrs['input_cif'] for da in arrays]\n",
    "\n"
   ]
  },
  {
   "cell_type": "code",
   "execution_count": null,
   "metadata": {
    "pycharm": {
     "name": "#%%\n"
    }
   },
   "outputs": [],
   "source": [
    "agent.companion.prime_plot(X, labels)"
   ]
  },
  {
   "cell_type": "markdown",
   "metadata": {},
   "source": [
    "### Observe will plot the measured data over the primed plot.\n",
    "- If the plot was not primed with training data, it will just populate latent space.\n",
    "- Simple `observe()` will plot the most recent. Alternatively, an independent variable can be sought after.\n",
    "- By default only one point will be displayed at a time.  This can be changed by adjusting the `hold` parameter.\n",
    "- The size of the points will depend on relative reconstruction error to some maximum.\n",
    "    - This maxmimum is by default the maximum of the dependent reconstruction errors.\n",
    "    - If the plot is primed, the maximum will default to the maximum reconstruction error from the training data used in priming.\n",
    "    - Alternatively, it can be hard set using the `max_error` parameter."
   ]
  },
  {
   "cell_type": "code",
   "execution_count": null,
   "metadata": {
    "pycharm": {
     "name": "#%%\n"
    }
   },
   "outputs": [],
   "source": [
    "agent.companion.observe()"
   ]
  },
  {
   "cell_type": "code",
   "execution_count": null,
   "metadata": {
    "pycharm": {
     "name": "#%%\n"
    }
   },
   "outputs": [],
   "source": [
    "agent.companion.observe(independent=[225])\n",
    "agent.companion.hold = True"
   ]
  },
  {
   "cell_type": "code",
   "execution_count": null,
   "metadata": {
    "pycharm": {
     "name": "#%%\n"
    }
   },
   "outputs": [],
   "source": [
    "agent.companion.observe(independent=[150], max_error=0.2)\n",
    "\n",
    "\n"
   ]
  }
 ],
 "metadata": {
  "kernelspec": {
   "display_name": "Python 3",
   "language": "python",
   "name": "python3"
  },
  "language_info": {
   "codemirror_mode": {
    "name": "ipython",
    "version": 2
   },
   "file_extension": ".py",
   "mimetype": "text/x-python",
   "name": "python",
   "nbconvert_exporter": "python",
   "pygments_lexer": "ipython2",
   "version": "2.7.6"
  }
 },
 "nbformat": 4,
 "nbformat_minor": 0
}
